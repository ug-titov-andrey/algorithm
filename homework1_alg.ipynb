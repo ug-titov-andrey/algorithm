{
 "cells": [
  {
   "cell_type": "markdown",
   "id": "bdb07de6",
   "metadata": {},
   "source": [
    "## Задание 1  \n",
    "> Подберите скорость обучения (alpha) и количество итераций\n",
    "\n"
   ]
  },
  {
   "cell_type": "code",
   "execution_count": 1,
   "id": "d233596b",
   "metadata": {},
   "outputs": [],
   "source": [
    "import numpy as np\n",
    "import matplotlib.pyplot as plt"
   ]
  },
  {
   "cell_type": "code",
   "execution_count": 2,
   "id": "6a90cc10",
   "metadata": {},
   "outputs": [],
   "source": [
    "#функция генератор исходных данных\n",
    "def gen_data(N_features,N_samples,X_range,Noise_sigma,flag=True):\n",
    "    if flag: np.random.seed(100)\n",
    "    n_features=N_features # число признакиов\n",
    "    n_samples = N_samples # число объктов \n",
    "    x_range=X_range \n",
    "    noise_sigma=Noise_sigma # объекты\n",
    "    w_true = np.random.normal(size=(n_features,)) #истинные коэффициенты\n",
    "    X = np.random.uniform(-x_range,x_range, (n_samples,n_features)) #признаки\n",
    "    #print(w_true.shape)\n",
    "    Y= X.dot(w_true)+np.random.normal(0, noise_sigma, size=(n_samples)) # объекты\n",
    "    return [X,Y,w_true]\n",
    " \n",
    "    \n",
    "    \n",
    "    \n",
    "    "
   ]
  },
  {
   "cell_type": "code",
   "execution_count": 3,
   "id": "0b2291a4",
   "metadata": {},
   "outputs": [],
   "source": [
    "#функция ошибок\n",
    "def mse_error(Y_cur,Y):\n",
    "    return (np.sum((Y - Y_cur)**2))/len(Y)"
   ]
  },
  {
   "cell_type": "markdown",
   "id": "321bcfff",
   "metadata": {},
   "source": [
    "аналитическое решение, минимизирующее функцию ошибок определяется выражением  $\\omega=(𝑋^𝑇𝑋)^{−1}𝑋^𝑇y$   &nbsp; &nbsp; &nbsp; &nbsp; &nbsp; &nbsp;(1)  \n",
    "Код на python приведен ниже"
   ]
  },
  {
   "cell_type": "code",
   "execution_count": 4,
   "id": "a97c995e",
   "metadata": {},
   "outputs": [],
   "source": [
    "def theoretic_solution(X,y):\n",
    "    #linalg.solve ищет корни линейного уравнения (𝑋^𝑇*𝑋)w = 𝑋^𝑇*Y. Домножили левую и правую часть (1) на 𝑋^𝑇*𝑋.\n",
    "    return np.linalg.solve(X.T.dot(X), X.T.dot(Y))\n",
    "    "
   ]
  },
  {
   "cell_type": "code",
   "execution_count": 5,
   "id": "e7b59603",
   "metadata": {},
   "outputs": [
    {
     "name": "stdout",
     "output_type": "stream",
     "text": [
      "Среднеквадратическая ошибка линейной регрессии по рассчитанным аналитически коэффициентам равна 0.24929383411249378\n"
     ]
    }
   ],
   "source": [
    "n_features=2\n",
    "n_samples = 1000\n",
    "x_range=10\n",
    "noise_sigma=0.5\n",
    "np.random.seed(100)\n",
    "X,Y,w_true = gen_data(n_features,n_samples,x_range,noise_sigma) # массив признаков, ответа и истинных коэффициентов\n",
    "w_theor = theoretic_solution(X,Y) # аналитическое решение\n",
    "Y_cur  = X.dot(w_theor)\n",
    "print(f'Среднеквадратическая ошибка линейной регрессии по рассчитанным аналитически коэффициентам равна {mse_error(Y_cur,Y)}')"
   ]
  },
  {
   "cell_type": "markdown",
   "id": "8771f49d",
   "metadata": {},
   "source": [
    "Определение коэффициентов линейной регрессии методом градиентного спуска  поизводится итерационно посредством пошагового выполнения следующей операции: $ \\omega_i = \\omega_{i-1} - \\alpha \\nabla Q(\\omega_{i-1}, X) $,  \n",
    "где $ \\nabla Q(\\omega_{i-1}, X) = \\frac{2}{l}X^T(X\\omega - y) $.  \n",
    "Ниже приведена реализация на python.\n"
   ]
  },
  {
   "cell_type": "code",
   "execution_count": 19,
   "id": "9dcc2083",
   "metadata": {},
   "outputs": [
    {
     "name": "stdout",
     "output_type": "stream",
     "text": [
      "\"Истинные\" коэффициенты линейной регрессии => [-1.74976547  0.3426804 ]\n",
      "Расчитанные \"аналитически\" коэффициенты линейной регрессии => [-1.75186518  0.3439976 ], функционал ошибки => 0.24929 \n",
      "Расчитанные методом градиентного спуска коэффициенты линейной регрессии => [-1.75186233  0.34399787], функционал ошибки => 0.24929 \n",
      "Подгонка коэффициентов произошла за 10 шагов, шаг градиента => 0.011\n"
     ]
    }
   ],
   "source": [
    "w = np.zeros(n_features) # начальная точка для поиска минимума\n",
    "max_step = 1e5 #максимальное число шагов\n",
    "min_dist = 1e-5 # минимальное (стремимся) расстояние между соседними весами по норме L2\n",
    "alpha = 0.011 #шаг градиента\n",
    "w_list = [w.copy()] #  список коэффициентов\n",
    "err_list = [] #список с ошибками\n",
    "cur_error = np.inf #текущая ошибка линейной регрессии\n",
    "cur_step=0\n",
    "weight_dist = np.inf\n",
    "\n",
    "while weight_dist > min_dist and cur_step < max_step:\n",
    "    new_w = w - 2* alpha *  np.dot(X.T, (np.dot(X, w) - Y)) / Y.shape[0]\n",
    "    weight_dist = np.linalg.norm(new_w-w, ord = 2)\n",
    "    cur_step+=1\n",
    "    w_list.append(new_w.copy())\n",
    "    Y_cur =  X.dot(new_w )\n",
    "    err_list.append(mse_error(Y_cur,Y))\n",
    "    w = new_w\n",
    "print(f'\"Истинные\" коэффициенты линейной регрессии => {w_true}')    \n",
    "print(f'Расчитанные \"аналитически\" коэффициенты линейной регрессии => {w_theor}, функционал ошибки => {round(mse_error(X.dot(w_theor),Y),5)} ')\n",
    "print(f'Расчитанные методом градиентного спуска коэффициенты линейной регрессии => {w}, функционал ошибки => {round(mse_error(X.dot(w),Y),5)} ')\n",
    "print(f'Подгонка коэффициентов произошла за {cur_step} шагов, шаг градиента => {alpha}')"
   ]
  },
  {
   "cell_type": "markdown",
   "id": "28b7168b",
   "metadata": {},
   "source": [
    "Задавшись минимальным расстоянием сежду весами была подобрана оптимальная скорость обучения (0.011), обеспечивающая заданную точность за 10 шагов."
   ]
  },
  {
   "cell_type": "markdown",
   "id": "f03f0fe7",
   "metadata": {},
   "source": [
    "## Задание 2  \n",
    ">В коде ниже коде нет итерации по весам, но здесь есть ошибка. Необходимо исправить ее."
   ]
  },
  {
   "cell_type": "code",
   "execution_count": 7,
   "id": "1533726e",
   "metadata": {},
   "outputs": [
    {
     "name": "stdout",
     "output_type": "stream",
     "text": [
      "Number of objects = 2        \n",
      "Learning rate = 0.01        \n",
      "Initial weights = [1.  0.5] \n",
      "\n",
      "(1000, 2) (2,) (1000,)\n",
      "Iteration #0: W_new = [-0.83934085  0.41754989], MSE = 253.97\n",
      "Iteration #10: W_new = [-1.75185005  0.34400271], MSE = 0.25\n",
      "Iteration #20: W_new = [-1.75186518  0.3439976 ], MSE = 0.25\n",
      "Iteration #30: W_new = [-1.75186518  0.3439976 ], MSE = 0.25\n",
      "Iteration #40: W_new = [-1.75186518  0.3439976 ], MSE = 0.25\n",
      "Iteration #50: W_new = [-1.75186518  0.3439976 ], MSE = 0.25\n",
      "Iteration #60: W_new = [-1.75186518  0.3439976 ], MSE = 0.25\n",
      "Iteration #70: W_new = [-1.75186518  0.3439976 ], MSE = 0.25\n",
      "Iteration #80: W_new = [-1.75186518  0.3439976 ], MSE = 0.25\n",
      "Iteration #90: W_new = [-1.75186518  0.3439976 ], MSE = 0.25\n"
     ]
    }
   ],
   "source": [
    "n = X.shape[1]\n",
    "alpha = 1e-2\n",
    "W = np.array([1, 0.5])\n",
    "print(f'Number of objects = {n} \\\n",
    "       \\nLearning rate = {alpha} \\\n",
    "       \\nInitial weights = {W} \\n')\n",
    "print(X.shape, W.shape,Y.shape)\n",
    "\n",
    "for i in range(100):\n",
    "    y_pred = np.dot(X, W)\n",
    "    err = mse_error(y_pred, Y)\n",
    "    #print(Y.shape, y_pred.shape, X.shape)\n",
    "    # W -= alpha * (1/n * 2 * np.sum(X * (y_pred - y))) #ОШИБОЧНАЯ СТРОКА\n",
    "    W -= alpha * (1/X.shape[0] * 2 * np.sum(X.T * (y_pred - Y), axis = 1))\n",
    "    W_pred = W\n",
    "    if i % 10 == 0:\n",
    "        print(f'Iteration #{i}: W_new = {W}, MSE = {round(err,2)}')\n",
    "        \n",
    "\n"
   ]
  },
  {
   "cell_type": "markdown",
   "id": "126d48f2",
   "metadata": {},
   "source": [
    "### Строка с ошибкой закоментирована и заменена верной.  \n",
    "В первоначальном варианте суммирование записано по неправильной оси и нормировка производится  на число признаков, а не на число объектов. Кроме того массив X надо транспонировать. В противном случае по правилам транслитерации при обычном умножении матриц возникает ошибка."
   ]
  },
  {
   "cell_type": "markdown",
   "id": "c60fc980",
   "metadata": {},
   "source": [
    "## Задание 3  \n",
    ">Вместо того чтобы задавать количество итераций, задайте условие остановки алгоритма, когда ошибка за итерацию начинает изменяться ниже определённого порога — упрощённый аналог параметра tol в линейной регрессии в sklearn."
   ]
  },
  {
   "cell_type": "code",
   "execution_count": 13,
   "id": "4e58e157",
   "metadata": {},
   "outputs": [
    {
     "name": "stdout",
     "output_type": "stream",
     "text": [
      "Number of objects = 2        \n",
      "Learning rate = 0.01        \n",
      "Initial weights = [1.  0.5] \n",
      "\n",
      "(1000, 2) (2,) (1000,)\n",
      "Iteration #10: W_new = [-1.7518198  0.3440117], MSE = 0.25\n"
     ]
    }
   ],
   "source": [
    "\n",
    "n = X.shape[1]\n",
    "alpha = 1e-2\n",
    "W = np.array([1, 0.5])\n",
    "print(f'Number of objects = {n} \\\n",
    "       \\nLearning rate = {alpha} \\\n",
    "       \\nInitial weights = {W} \\n')\n",
    "print(X.shape, W.shape,Y.shape)\n",
    "delta__err_max = 1e-5 # минимальное приращение ошибки MSE, по которому происходит завершение\n",
    "delta__err_cur  = np.inf\n",
    "err_pred = np.inf\n",
    "i=0\n",
    "while delta__err_cur >= delta__err_max:\n",
    "    y_pred = np.dot(X, W)\n",
    "    err = mse_error(y_pred, Y)\n",
    "    #print(Y.shape, y_pred.shape, X.shape)\n",
    "    # W -= alpha * (1/n * 2 * np.sum(X * (y_pred - y))) #ОШИБОЧНАЯ СТРОКА    \n",
    "    W -= alpha * (1/X.shape[0] * 2 * np.sum(X.T * (y_pred - Y), axis = 1))\n",
    "    delta__err_cur = np.abs(err - err_pred)\n",
    "    err_pred = err\n",
    "    i+=1\n",
    "print(f'Iteration #{i}: W_new = {W}, MSE = {round(err,2)}')"
   ]
  },
  {
   "cell_type": "code",
   "execution_count": null,
   "id": "bd4a0ced",
   "metadata": {},
   "outputs": [],
   "source": []
  },
  {
   "cell_type": "code",
   "execution_count": null,
   "id": "726d8acf",
   "metadata": {},
   "outputs": [],
   "source": []
  }
 ],
 "metadata": {
  "kernelspec": {
   "display_name": "Python 3 (ipykernel)",
   "language": "python",
   "name": "python3"
  },
  "language_info": {
   "codemirror_mode": {
    "name": "ipython",
    "version": 3
   },
   "file_extension": ".py",
   "mimetype": "text/x-python",
   "name": "python",
   "nbconvert_exporter": "python",
   "pygments_lexer": "ipython3",
   "version": "3.9.13"
  }
 },
 "nbformat": 4,
 "nbformat_minor": 5
}
