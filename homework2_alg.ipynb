{
 "cells": [
  {
   "cell_type": "markdown",
   "id": "b50f0dfc",
   "metadata": {},
   "source": [
    "## Задание 1  \n",
    ">Постройте график зависимости весов всех признаков от lambda в L2-регуляризации на основе данных из урока.\n"
   ]
  },
  {
   "cell_type": "code",
   "execution_count": 1,
   "id": "5fdf11b7",
   "metadata": {},
   "outputs": [],
   "source": [
    "import numpy as np\n",
    "import matplotlib.pyplot as plt\n",
    "import seaborn as sns\n",
    "plt.rcParams ['figure.figsize'] = [6, 3]"
   ]
  },
  {
   "cell_type": "code",
   "execution_count": 2,
   "id": "0ea99a8c",
   "metadata": {},
   "outputs": [],
   "source": [
    "#Исходные данные\n",
    "#Признаки\n",
    "X = np.array([[   1,    1,  500,    1],\n",
    "              [   1,    1,  700,    1],\n",
    "              [   1,    2,  750,    2],\n",
    "              [   1,    5,  600,    1],\n",
    "              [   1,    3, 1450,    2],\n",
    "              [   1,    0,  800,    1],\n",
    "              [   1,    5, 1500,    3],\n",
    "              [   1,   10, 2000,    3],\n",
    "              [   1,    1,  450,    1],\n",
    "              [   1,    2, 1000,    2]])\n",
    "#целевая переменная\n",
    "y = [45, 55, 50, 55, 60, 35, 75, 80, 50, 60]\n"
   ]
  },
  {
   "cell_type": "code",
   "execution_count": 3,
   "id": "f1a586ba",
   "metadata": {},
   "outputs": [],
   "source": [
    "#функция ошибок\n",
    "def mse_error(Y_cur,Y):\n",
    "    return (np.sum((Y - Y_cur)**2))/len(Y)"
   ]
  },
  {
   "cell_type": "code",
   "execution_count": 4,
   "id": "4d112f0a",
   "metadata": {},
   "outputs": [],
   "source": [
    "#функция ошибок 2\n",
    "def calc_mse(y, y_pred):\n",
    "    err = np.mean((y - y_pred)**2)\n",
    "    return err"
   ]
  },
  {
   "cell_type": "code",
   "execution_count": 5,
   "id": "1a07e529",
   "metadata": {},
   "outputs": [],
   "source": [
    "def gradient_descent_reg_l2(X, y, iterations, eta=1e-4, reg=1e-8):\n",
    "    W = np.random.randn(X.shape[1])\n",
    "    n = X.shape[0]\n",
    "    \n",
    "    for i in range(0, iterations):\n",
    "        y_pred = np.dot(X, W)\n",
    "        err = calc_mse(y, y_pred)\n",
    "        \n",
    "        dQ = 2/n * X.T @ (y_pred - y) # градиент функции ошибки\n",
    "        dReg = 2 * reg * W # градиент регуляризации\n",
    "        \n",
    "        W -= eta * (dQ + dReg)\n",
    "        \n",
    "        #if i % (iterations / 10) == 0:\n",
    "            #print(f'Iter: {i}, weights: {W}, error {err}')\n",
    "    \n",
    "    print(f'Final MSE: {calc_mse(y, np.dot(X, W))}')\n",
    "    return W"
   ]
  },
  {
   "cell_type": "code",
   "execution_count": 6,
   "id": "163255f5",
   "metadata": {},
   "outputs": [
    {
     "data": {
      "text/plain": [
       "<AxesSubplot:ylabel='Count'>"
      ]
     },
     "execution_count": 6,
     "metadata": {},
     "output_type": "execute_result"
    },
    {
     "data": {
      "image/png": "[encoded data removed]",
      "text/plain": [
       "<Figure size 600x300 with 1 Axes>"
      ]
     },
     "metadata": {},
     "output_type": "display_data"
    }
   ],
   "source": [
    "sns.histplot(X[:,1:], multiple=\"stack\", bins = 10)"
   ]
  },
  {
   "cell_type": "markdown",
   "id": "3ab56f70",
   "metadata": {},
   "source": [
    "Видно,что признаки имеют разный масштаб.  \n",
    "Применим процедуру стандартизации"
   ]
  },
  {
   "cell_type": "code",
   "execution_count": 7,
   "id": "32841204",
   "metadata": {},
   "outputs": [],
   "source": [
    "#функция стандартизаии\n",
    "#def standart_scale(X):\n",
    "#    return (X-X.mean(axis=0))/X.std(axis=0)"
   ]
  },
  {
   "cell_type": "code",
   "execution_count": 8,
   "id": "49ea451e",
   "metadata": {},
   "outputs": [],
   "source": [
    "def standard_scale(X):\n",
    "    mean = X.mean()\n",
    "    std = X.std()\n",
    "    return (X - mean) / std"
   ]
  },
  {
   "cell_type": "code",
   "execution_count": 9,
   "id": "e9d4da6b",
   "metadata": {},
   "outputs": [
    {
     "data": {
      "text/plain": [
       "array([  1. ,   3. , 975. ,   1.7])"
      ]
     },
     "execution_count": 9,
     "metadata": {},
     "output_type": "execute_result"
    }
   ],
   "source": [
    "X.mean(axis=0)"
   ]
  },
  {
   "cell_type": "code",
   "execution_count": 10,
   "id": "0a4d0d30",
   "metadata": {},
   "outputs": [],
   "source": [
    "X_st = X.copy().astype(np.float64)\n",
    "X_st[:, 1] = standard_scale(X_st[:, 1])\n",
    "X_st[:, 2] = standard_scale(X_st[:, 2])\n",
    "X_st[:, 3] = standard_scale(X_st[:, 3])\n",
    "\n",
    "#X_st[:,1:3] = standart_scale(X_st[:,1:3]) "
   ]
  },
  {
   "cell_type": "code",
   "execution_count": 11,
   "id": "eb9414a7",
   "metadata": {},
   "outputs": [
    {
     "data": {
      "text/plain": [
       "array([1.00000000e+00, 2.22044605e-17, 2.49800181e-17, 8.32667268e-17])"
      ]
     },
     "execution_count": 11,
     "metadata": {},
     "output_type": "execute_result"
    }
   ],
   "source": [
    "X_st.mean(axis=0)"
   ]
  },
  {
   "cell_type": "code",
   "execution_count": 12,
   "id": "51f52796",
   "metadata": {},
   "outputs": [
    {
     "data": {
      "image/png": "[encoded data removed]",
      "text/plain": [
       "<Figure size 600x300 with 1 Axes>"
      ]
     },
     "metadata": {},
     "output_type": "display_data"
    }
   ],
   "source": [
    "sns.histplot(X_st[:,1:], multiple=\"stack\", bins = 10)\n",
    "plt.show()"
   ]
  },
  {
   "cell_type": "markdown",
   "id": "5d6284b1",
   "metadata": {},
   "source": [
    "# "
   ]
  },
  {
   "cell_type": "code",
   "execution_count": 13,
   "id": "731ee048",
   "metadata": {},
   "outputs": [
    {
     "name": "stdout",
     "output_type": "stream",
     "text": [
      "Final MSE: 24.904618876908742\n",
      "Final MSE: 33.30403650121704\n",
      "Final MSE: 54.893861459682434\n",
      "Final MSE: 85.91395995531973\n",
      "Final MSE: 123.7162573685047\n",
      "Final MSE: 166.33348695294018\n",
      "Final MSE: 212.2853072262198\n",
      "Final MSE: 260.4514598844611\n",
      "Final MSE: 309.98152332632714\n",
      "Final MSE: 360.2290205840064\n",
      "Final MSE: 410.7026734421391\n",
      "Final MSE: 461.02999544526654\n",
      "Final MSE: 510.9298792104152\n",
      "Final MSE: 560.1918055738034\n",
      "Final MSE: 608.6599704704181\n",
      "Final MSE: 656.221093111709\n",
      "Final MSE: 702.7950002549796\n",
      "Final MSE: 748.3273183306575\n",
      "Final MSE: 792.783776282419\n",
      "Final MSE: 836.1457465496238\n"
     ]
    }
   ],
   "source": [
    "number_lambd = 20\n",
    "lambda_gr = np.linspace(1e-8,1,number_lambd) #массив значений параметра регуляризации\n",
    "W = np.zeros((number_lambd, 4)) #массив весов\n",
    "for ind,lambda_cur in enumerate(lambda_gr):\n",
    "    W[ind] = gradient_descent_reg_l2(X_st, y, iterations=5000, eta=1e-1, reg=lambda_cur)\n",
    "    \n"
   ]
  },
  {
   "cell_type": "code",
   "execution_count": 14,
   "id": "bb5e26c6",
   "metadata": {},
   "outputs": [
    {
     "data": {
      "text/plain": [
       "Text(0.5, 1.0, 'признак4')"
      ]
     },
     "execution_count": 14,
     "metadata": {},
     "output_type": "execute_result"
    },
    {
     "data": {
      "image/png": "[encoded data removed]",
      "text/plain": [
       "<Figure size 600x300 with 4 Axes>"
      ]
     },
     "metadata": {},
     "output_type": "display_data"
    }
   ],
   "source": [
    "fig, ax = plt.subplots(2,2)\n",
    "ax[0,0].plot(W[:,0])\n",
    "ax[0,1].plot(W[:,1])\n",
    "ax[1,0].plot(W[:,2])\n",
    "ax[1,1].plot(W[:,3])\n",
    "ax[0,1].set_title('признак1')\n",
    "ax[0,0].set_title('признак2')\n",
    "ax[1,0].set_title('признак3')\n",
    "ax[1,1].set_title('признак4')"
   ]
  },
  {
   "cell_type": "code",
   "execution_count": 15,
   "id": "f9ba45c4",
   "metadata": {},
   "outputs": [
    {
     "name": "stdout",
     "output_type": "stream",
     "text": [
      "[-0.35638845  1.02955765  1.69016989  2.06289822  2.29215999  2.43980545\n",
      "  2.53683552  2.60052796  2.64127778  2.66571051  2.67824333  2.68192882\n",
      "  2.67893914  2.67085772  2.65886242  2.64384442  2.62648785  2.60732438\n",
      "  2.58677159  2.56516043]\n"
     ]
    }
   ],
   "source": [
    "print(W[:,2])"
   ]
  },
  {
   "cell_type": "markdown",
   "id": "7afd661d",
   "metadata": {},
   "source": [
    "## Задание 2 \n",
    ">Можно ли к одному и тому же признаку применить сразу и нормализацию, и стандартизацию?\n"
   ]
  },
  {
   "cell_type": "markdown",
   "id": "853dc5d1",
   "metadata": {},
   "source": [
    "## Решение\n",
    "Не имеет смысла. При стандартизации получается стандартное нормальное распределение, при котором значения признаков в принципе не ограничены. При нормализации значения признаков лежат в интервале от -1 до 1."
   ]
  },
  {
   "cell_type": "markdown",
   "id": "0b231c76",
   "metadata": {},
   "source": [
    "## Задание 3 \n",
    ">Напишите функцию наподобие gradient_descent_reg_l2, но для применения L1-регуляризации."
   ]
  },
  {
   "cell_type": "markdown",
   "id": "6eb43396",
   "metadata": {},
   "source": [
    "###  Решение  \n"
   ]
  },
  {
   "cell_type": "code",
   "execution_count": 16,
   "id": "a3c158e7",
   "metadata": {},
   "outputs": [],
   "source": [
    "def gradient_descent_reg_l1(X, y, iterations, eta=1e-4, reg=1e-8):\n",
    "    W = np.random.randn(X.shape[1])\n",
    "    n = X.shape[0]\n",
    "    \n",
    "    for i in range(0, iterations):\n",
    "        y_pred = np.dot(X, W)\n",
    "        err = calc_mse(y, y_pred)\n",
    "        \n",
    "        dQ = 2/n * X.T @ (y_pred - y) # градиент функции ошибки\n",
    "        #dReg = 2 * reg * W # градиент регуляризации\n",
    "        dRegeg = reg * np.sign(W) #новый коэффициент регуляризации \n",
    "        \n",
    "        W -= eta * (dQ + dReg)\n",
    "        \n",
    "        #if i % (iterations / 10) == 0:\n",
    "            #print(f'Iter: {i}, weights: {W}, error {err}')\n",
    "    \n",
    "    print(f'Final MSE: {calc_mse(y, np.dot(X, W))}')\n",
    "    return W"
   ]
  }
 ],
 "metadata": {
  "kernelspec": {
   "display_name": "Python 3 (ipykernel)",
   "language": "python",
   "name": "python3"
  },
  "language_info": {
   "codemirror_mode": {
    "name": "ipython",
    "version": 3
   },
   "file_extension": ".py",
   "mimetype": "text/x-python",
   "name": "python",
   "nbconvert_exporter": "python",
   "pygments_lexer": "ipython3",
   "version": "3.9.13"
  }
 },
 "nbformat": 4,
 "nbformat_minor": 5
}
